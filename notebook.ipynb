{
 "cells": [
  {
   "cell_type": "code",
   "execution_count": 1,
   "id": "b509973e",
   "metadata": {},
   "outputs": [],
   "source": [
    "import plotly.express as px\n",
    "import pandas as pd\n",
    "%matplotlib inline"
   ]
  },
  {
   "cell_type": "code",
   "execution_count": 2,
   "id": "f7c888bb",
   "metadata": {},
   "outputs": [
    {
     "name": "stderr",
     "output_type": "stream",
     "text": [
      "/var/folders/1k/pvgxs_2d3_l5_2zqlq_gw1500000gn/T/ipykernel_61369/1770077555.py:3: FutureWarning: The default value of regex will change from True to False in a future version.\n",
      "  data[\"level_2_modified\"] = data.level_2.str.replace('\\s', '<br>')\n"
     ]
    }
   ],
   "source": [
    "data = pd.read_csv(\"total-loans-to-non-bank-customers-by-type.csv\")\n",
    "data = data[data.month == \"2015-08\"]\n",
    "data[\"level_2_modified\"] = data.level_2.str.replace('\\s', '<br>')"
   ]
  },
  {
   "cell_type": "code",
   "execution_count": 3,
   "id": "dd75b72b",
   "metadata": {},
   "outputs": [],
   "source": [
    "fig = px.sunburst(data, path=[\"level_1\", \"level_2_modified\"], values=\"total_loans\")\n",
    "fig.update_layout(margin = dict(t=0, l=0, r=0, b=0));"
   ]
  },
  {
   "cell_type": "code",
   "execution_count": 4,
   "id": "14bd491d",
   "metadata": {},
   "outputs": [
    {
     "data": {
      "application/vnd.jupyter.widget-view+json": {
       "model_id": "db1894a90f0c41c89ffefea15b30ce73",
       "version_major": 2,
       "version_minor": 0
      },
      "text/plain": [
       "FigureWidget({\n",
       "    'data': [{'branchvalues': 'total',\n",
       "              'domain': {'x': [0.0, 1.0], 'y': [0.0, 1.0…"
      ]
     },
     "metadata": {},
     "output_type": "display_data"
    }
   ],
   "source": [
    "import plotly.graph_objects as go\n",
    "fig_widget = go.FigureWidget(fig)\n",
    "fig_widget"
   ]
  },
  {
   "cell_type": "code",
   "execution_count": null,
   "id": "14e6b15d",
   "metadata": {},
   "outputs": [],
   "source": []
  }
 ],
 "metadata": {
  "kernelspec": {
   "display_name": "Python 3 (ipykernel)",
   "language": "python",
   "name": "python3"
  },
  "language_info": {
   "codemirror_mode": {
    "name": "ipython",
    "version": 3
   },
   "file_extension": ".py",
   "mimetype": "text/x-python",
   "name": "python",
   "nbconvert_exporter": "python",
   "pygments_lexer": "ipython3",
   "version": "3.10.9"
  }
 },
 "nbformat": 4,
 "nbformat_minor": 5
}
