{
 "cells": [
  {
   "cell_type": "code",
   "execution_count": 20,
   "id": "b509973e",
   "metadata": {},
   "outputs": [],
   "source": [
    "import plotly.graph_objects as go\n",
    "import plotly.express as px\n",
    "import pandas as pd\n",
    "%matplotlib inline"
   ]
  },
  {
   "cell_type": "markdown",
   "id": "f82f7a43",
   "metadata": {},
   "source": [
    "## Health Care Facilites with bed 2020"
   ]
  },
  {
   "cell_type": "code",
   "execution_count": 53,
   "id": "14e6b15d",
   "metadata": {},
   "outputs": [
    {
     "data": {
      "application/vnd.jupyter.widget-view+json": {
       "model_id": "bd6e3a1e33764271a06dc76427ad0711",
       "version_major": 2,
       "version_minor": 0
      },
      "text/plain": [
       "FigureWidget({\n",
       "    'data': [{'branchvalues': 'total',\n",
       "              'customdata': array([[ 285.        ],\n",
       "    …"
      ]
     },
     "metadata": {},
     "output_type": "display_data"
    }
   ],
   "source": [
    "with_bed_facilities = pd.read_csv(\"health-facilities-and-beds-in-inpatient-facilities-public-not-for-profit-private.csv\")\n",
    "with_bed_facilities = with_bed_facilities[with_bed_facilities.year == 2020]\n",
    "with_bed_facilities = with_bed_facilities[with_bed_facilities.no_of_facilities + with_bed_facilities.no_beds > 0]\n",
    "fig = px.sunburst(with_bed_facilities, path=[\"institution_type\", \"public_private\", \"facility_type_a\"], values=\"no_of_facilities\",\n",
    "                  color=\"no_beds\", color_continuous_scale=\"RdBu\")\n",
    "fig.update_layout(margin = dict(t=0, l=0, r=0, b=0));\n",
    "fig_widget = go.FigureWidget(fig)\n",
    "fig_widget"
   ]
  },
  {
   "cell_type": "markdown",
   "id": "8522a63e",
   "metadata": {},
   "source": [
    "## Other Healthcare Facilities"
   ]
  },
  {
   "cell_type": "code",
   "execution_count": 51,
   "id": "6158e15a",
   "metadata": {},
   "outputs": [
    {
     "data": {
      "application/vnd.jupyter.widget-view+json": {
       "model_id": "6878956c2efe48e7a9aba1a0cd52a139",
       "version_major": 2,
       "version_minor": 0
      },
      "text/plain": [
       "FigureWidget({\n",
       "    'data': [{'branchvalues': 'total',\n",
       "              'domain': {'x': [0.0, 1.0], 'y': [0.0, 1.0…"
      ]
     },
     "metadata": {},
     "output_type": "display_data"
    }
   ],
   "source": [
    "other_facilities_data = pd.read_csv(\"health-facilities-primary-care-dental-clinics-and-pharmacies.csv\")\n",
    "other_facilities_data = other_facilities_data[other_facilities_data.year == 2020]\n",
    "fig = px.sunburst(other_facilities_data, path=[\"institution_type\", \"sector\", \"facility_type_b\"], values=\"no_of_facilities\")\n",
    "fig.update_layout(margin = dict(t=0, l=0, r=0, b=0));\n",
    "fig_widget = go.FigureWidget(fig)\n",
    "fig_widget"
   ]
  }
 ],
 "metadata": {
  "kernelspec": {
   "display_name": "Python 3 (ipykernel)",
   "language": "python",
   "name": "python3"
  },
  "language_info": {
   "codemirror_mode": {
    "name": "ipython",
    "version": 3
   },
   "file_extension": ".py",
   "mimetype": "text/x-python",
   "name": "python",
   "nbconvert_exporter": "python",
   "pygments_lexer": "ipython3",
   "version": "3.10.9"
  }
 },
 "nbformat": 4,
 "nbformat_minor": 5
}
