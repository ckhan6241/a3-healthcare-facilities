{
 "cells": [
  {
   "cell_type": "code",
   "execution_count": 1,
   "id": "b509973e",
   "metadata": {},
   "outputs": [],
   "source": [
    "import plotly.express as px\n",
    "import pandas as pd\n",
    "%matplotlib inline"
   ]
  },
  {
   "cell_type": "code",
   "execution_count": 2,
   "id": "67913360",
   "metadata": {},
   "outputs": [],
   "source": [
    "import plotly.io as pio\n",
    "pio.renderers.default='notebook'"
   ]
  },
  {
   "cell_type": "code",
   "execution_count": 4,
   "id": "f7c888bb",
   "metadata": {},
   "outputs": [],
   "source": [
    "data = pd.read_csv(\"total-loans-to-non-bank-customers-by-type.csv\")\n",
    "\n",
    "data = data[data.month == \"2015-08\"]\n",
    "\n",
    "data[\"level_2_modified\"] = data.level_2.str.replace('\\s', '<br>')"
   ]
  },
  {
   "cell_type": "code",
   "execution_count": 15,
   "id": "dd75b72b",
   "metadata": {},
   "outputs": [],
   "source": [
    "fig = px.sunburst(data, path=[\"level_1\", \"level_2_modified\"], values=\"total_loans\")\n",
    "fig.update_layout(margin = dict(t=0, l=0, r=0, b=0));"
   ]
  },
  {
   "cell_type": "code",
   "execution_count": 16,
   "id": "ca7d3fed",
   "metadata": {},
   "outputs": [
    {
     "data": {
      "application/vnd.jupyter.widget-view+json": {
       "model_id": "7666e979d975443e8083f871db2e617e",
       "version_major": 2,
       "version_minor": 0
      },
      "text/plain": [
       "FigureWidget({\n",
       "    'data': [{'branchvalues': 'total',\n",
       "              'domain': {'x': [0.0, 1.0], 'y': [0.0, 1.0]},\n",
       "              'hovertemplate': ('labels=%{label}<br>total_loans' ... 'nt}<br>id=%{id}<extra></extra>'),\n",
       "              'ids': array(['Business/Agriculture,<br>Mining<br>and<br>Quarrying',\n",
       "                            'Business/Building<br>and<br>Construction',\n",
       "                            'Business/Business<br>Services', 'Business/Financial<br>Institutions',\n",
       "                            'Business/General<br>Commerce',\n",
       "                            'Consumer/Housing<br>and<br>Bridging<br>Loans',\n",
       "                            'Business/Manufacturing', 'Business/Others',\n",
       "                            'Business/Professional<br>and<br>Private<br>Individuals<br>-<br>Business<br>Purposes',\n",
       "                            'Consumer/Professional<br>and<br>Private<br>Individuals<br>-<br>Car<br>Loans',\n",
       "                            'Consumer/Professional<br>and<br>Private<br>Individuals<br>-<br>Credit<br>Cards',\n",
       "                            'Consumer/Professional<br>and<br>Private<br>Individuals<br>-<br>Others',\n",
       "                            'Consumer/Professional<br>and<br>Private<br>Individuals<br>-<br>Share<br>Financing',\n",
       "                            'Business/Transport,<br>Storage<br>and<br>Communication', 'Business',\n",
       "                            'Consumer'], dtype=object),\n",
       "              'labels': array(['Agriculture,<br>Mining<br>and<br>Quarrying',\n",
       "                               'Building<br>and<br>Construction', 'Business<br>Services',\n",
       "                               'Financial<br>Institutions', 'General<br>Commerce',\n",
       "                               'Housing<br>and<br>Bridging<br>Loans', 'Manufacturing', 'Others',\n",
       "                               'Professional<br>and<br>Private<br>Individuals<br>-<br>Business<br>Purposes',\n",
       "                               'Professional<br>and<br>Private<br>Individuals<br>-<br>Car<br>Loans',\n",
       "                               'Professional<br>and<br>Private<br>Individuals<br>-<br>Credit<br>Cards',\n",
       "                               'Professional<br>and<br>Private<br>Individuals<br>-<br>Others',\n",
       "                               'Professional<br>and<br>Private<br>Individuals<br>-<br>Share<br>Financing',\n",
       "                               'Transport,<br>Storage<br>and<br>Communication', 'Business', 'Consumer'],\n",
       "                              dtype=object),\n",
       "              'name': '',\n",
       "              'parents': array(['Business', 'Business', 'Business', 'Business', 'Business', 'Consumer',\n",
       "                                'Business', 'Business', 'Business', 'Consumer', 'Consumer', 'Consumer',\n",
       "                                'Consumer', 'Business', '', ''], dtype=object),\n",
       "              'type': 'sunburst',\n",
       "              'uid': '8e96994d-2bc3-4cf7-99fd-99cbe3bd90cc',\n",
       "              'values': array([ 38975.3, 144749.8,  18793.9, 196384.4, 175910.8, 184783.5,  89345.9,\n",
       "                               117699.2,  18059.6,   7943.6,   9820. , 100036.1,   1022.6,  84863.5,\n",
       "                               884782.4, 303605.8])}],\n",
       "    'layout': {'legend': {'tracegroupgap': 0}, 'margin': {'b': 0, 'l': 0, 'r': 0, 't': 0}, 'template': '...'}\n",
       "})"
      ]
     },
     "execution_count": 16,
     "metadata": {},
     "output_type": "execute_result"
    }
   ],
   "source": [
    "import plotly.graph_objects as go\n",
    "fig_widget = go.FigureWidget(fig)\n",
    "fig_widget"
   ]
  },
  {
   "cell_type": "code",
   "execution_count": null,
   "id": "fcf4f9cb",
   "metadata": {},
   "outputs": [],
   "source": []
  }
 ],
 "metadata": {
  "kernelspec": {
   "display_name": "Python 3 (ipykernel)",
   "language": "python",
   "name": "python3"
  },
  "language_info": {
   "codemirror_mode": {
    "name": "ipython",
    "version": 3
   },
   "file_extension": ".py",
   "mimetype": "text/x-python",
   "name": "python",
   "nbconvert_exporter": "python",
   "pygments_lexer": "ipython3",
   "version": "3.10.9"
  }
 },
 "nbformat": 4,
 "nbformat_minor": 5
}
